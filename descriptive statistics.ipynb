{
 "cells": [
  {
   "cell_type": "code",
   "execution_count": 3,
   "id": "aeeaa273-539a-4c84-96a2-8a48508b3ead",
   "metadata": {},
   "outputs": [
    {
     "name": "stdout",
     "output_type": "stream",
     "text": [
      "Max of Duration : 49.83\n",
      "Min of Duration : 0.83\n",
      "Range of Duration : 49.0\n",
      "Mean of Duration : 12.22\n",
      "Mode of Duration : 2.17\n",
      "Variance of Duration : 51.72\n",
      "Standard Deviance of Duration : 7.19\n",
      "\n",
      "Max of Days_Left : 49\n",
      "Min of Days_Left : 1\n",
      "Range of Days_Left : 48\n",
      "Mean of Days_Left : 26.0\n",
      "Mode of Days_Left : 25\n",
      "Variance of Days_Left : 183.9\n",
      "Standard Deviance of Days_Left : 13.56\n",
      "\n",
      "Max of Price : 123071\n",
      "Min of Price : 1105\n",
      "Range of Price : 121966\n",
      "Mean of Price : 20889.66\n",
      "Mode of Price : 54608\n",
      "Variance of Price : 515188643.4\n",
      "Standard Deviance of Price : 22697.77\n",
      "\n"
     ]
    }
   ],
   "source": [
    "import pandas as pd\n",
    "import statistics\n",
    "import numpy as np\n",
    "\n",
    "# Declaration\n",
    "# Descriptive Statistic : Max, Min, Range, Mean, Mode, Var, Std for numeric Column\n",
    "data = pd.read_csv(\"airlines_flights_data.csv\")\n",
    "\n",
    "target_col = ['duration','days_left','price']\n",
    "\n",
    "for dt in target_col:\n",
    "    # Convert to int\n",
    "    data[dt] = pd.to_numeric(data[dt], errors='coerce')\n",
    "    \n",
    "    # Remove NaN\n",
    "    data = data.dropna(subset=[dt])\n",
    "\n",
    "    max_val = data[dt].max()\n",
    "    min_val = data[dt].min()\n",
    "    range_val = max_val - min_val\n",
    "    mean = round(data[dt].mean(),2)\n",
    "    mode = round(statistics.mode(data[dt]),2)\n",
    "    var = round(np.nanvar(data[dt],ddof=1),2)\n",
    "    std = round(var ** 0.5,2)\n",
    "\n",
    "    print(f\"Max of {dt.title()} : {max_val}\")\n",
    "    print(f\"Min of {dt.title()} : {min_val}\")\n",
    "    print(f\"Range of {dt.title()} : {range_val}\")\n",
    "    print(f\"Mean of {dt.title()} : {mean}\")\n",
    "    print(f\"Mode of {dt.title()} : {mode}\")\n",
    "    print(f\"Variance of {dt.title()} : {var}\")\n",
    "    print(f\"Standard Deviance of {dt.title()} : {std}\\n\")"
   ]
  },
  {
   "cell_type": "code",
   "execution_count": null,
   "id": "f8a9e367-c17a-4899-bf1b-aadace3fa1aa",
   "metadata": {},
   "outputs": [],
   "source": []
  }
 ],
 "metadata": {
  "kernelspec": {
   "display_name": "Python [conda env:base] *",
   "language": "python",
   "name": "conda-base-py"
  },
  "language_info": {
   "codemirror_mode": {
    "name": "ipython",
    "version": 3
   },
   "file_extension": ".py",
   "mimetype": "text/x-python",
   "name": "python",
   "nbconvert_exporter": "python",
   "pygments_lexer": "ipython3",
   "version": "3.12.7"
  }
 },
 "nbformat": 4,
 "nbformat_minor": 5
}
